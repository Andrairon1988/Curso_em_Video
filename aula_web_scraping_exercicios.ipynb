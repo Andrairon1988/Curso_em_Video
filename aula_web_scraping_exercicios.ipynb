{
  "nbformat": 4,
  "nbformat_minor": 0,
  "metadata": {
    "colab": {
      "provenance": [],
      "authorship_tag": "ABX9TyNkJJeh+g7ZtcgeGktXkdMP",
      "include_colab_link": true
    },
    "kernelspec": {
      "name": "python3",
      "display_name": "Python 3"
    },
    "language_info": {
      "name": "python"
    }
  },
  "cells": [
    {
      "cell_type": "markdown",
      "metadata": {
        "id": "view-in-github",
        "colab_type": "text"
      },
      "source": [
        "<a href=\"https://colab.research.google.com/github/Andrairon1988/Curso_em_Video/blob/main/aula_web_scraping_exercicios.ipynb\" target=\"_parent\"><img src=\"https://colab.research.google.com/assets/colab-badge.svg\" alt=\"Open In Colab\"/></a>"
      ]
    },
    {
      "cell_type": "markdown",
      "source": [
        "### Web Scraping Google:"
      ],
      "metadata": {
        "id": "itBq5JeRdzlE"
      }
    },
    {
      "cell_type": "markdown",
      "source": [
        "### Exercício 1"
      ],
      "metadata": {
        "id": "1jiWjSpRf1g1"
      }
    },
    {
      "cell_type": "code",
      "source": [
        "# Importando a biblioteca Requests:\n",
        "import requests"
      ],
      "metadata": {
        "id": "G5FtCvxjdxBV"
      },
      "execution_count": null,
      "outputs": []
    },
    {
      "cell_type": "code",
      "execution_count": null,
      "metadata": {
        "id": "NZzasfuBdrDg"
      },
      "outputs": [],
      "source": [
        "# Realizando a requisição desejada:\n",
        "requisicao = requests.get(\"https://www.google.com\")"
      ]
    },
    {
      "cell_type": "code",
      "source": [
        "# Verificando o status da requisição:\n",
        "requisicao.status_code"
      ],
      "metadata": {
        "colab": {
          "base_uri": "https://localhost:8080/"
        },
        "id": "gW-z5QqmeL-5",
        "outputId": "258f3ee3-761f-43d4-9ff3-f6acdadc80b9"
      },
      "execution_count": null,
      "outputs": [
        {
          "output_type": "execute_result",
          "data": {
            "text/plain": [
              "200"
            ]
          },
          "metadata": {},
          "execution_count": 7
        }
      ]
    },
    {
      "cell_type": "code",
      "source": [
        "# Exibindo o conteúdo:\n",
        "requisicao.text"
      ],
      "metadata": {
        "id": "ypvxmQYGeYOs"
      },
      "execution_count": null,
      "outputs": []
    },
    {
      "cell_type": "markdown",
      "source": [
        "### Exercício 2"
      ],
      "metadata": {
        "id": "hyr5WOqmfu8r"
      }
    },
    {
      "cell_type": "code",
      "source": [
        "# Agora vou requisitar um livro da Web:\n",
        "HOST_URL = \"https://www.gutenberg.org/cache/epub/84/pg84.txt\"\n",
        "FILE_NAME = \"Frankenstein.txt\""
      ],
      "metadata": {
        "id": "vJE3AvZqgLgd"
      },
      "execution_count": null,
      "outputs": []
    },
    {
      "cell_type": "code",
      "source": [
        "# Criando a requisição:\n",
        "requisicao = requests.get(HOST_URL)"
      ],
      "metadata": {
        "id": "rywGdqqCguvB"
      },
      "execution_count": null,
      "outputs": []
    },
    {
      "cell_type": "code",
      "source": [
        "# Analisando Status Code:\n",
        "if requisicao.status_code == 200:\n",
        "    print(\"Requisição bem sucedida!\")\n",
        "else:\n",
        "    print(\"Requisição falhou, você foi lambão!\")"
      ],
      "metadata": {
        "colab": {
          "base_uri": "https://localhost:8080/"
        },
        "id": "4zMz6hscg3pW",
        "outputId": "c41d5c51-6c4d-428c-acda-a53c0943570e"
      },
      "execution_count": null,
      "outputs": [
        {
          "output_type": "stream",
          "name": "stdout",
          "text": [
            "Requisição bem sucedida!\n"
          ]
        }
      ]
    },
    {
      "cell_type": "code",
      "source": [
        "# Salvando o arquivo:\n",
        "with open(FILE_NAME, \"wb\") as arquivo:\n",
        "    arquivo.write(requisicao.content)\n",
        "    print(\"Arquivo salvo com sucesso!\")"
      ],
      "metadata": {
        "colab": {
          "base_uri": "https://localhost:8080/"
        },
        "id": "7e0Fb-PThP0r",
        "outputId": "5a35af80-33a5-474d-83ec-2c7d6ebfb07c"
      },
      "execution_count": null,
      "outputs": [
        {
          "output_type": "stream",
          "name": "stdout",
          "text": [
            "Arquivo salvo com sucesso!\n"
          ]
        }
      ]
    }
  ]
}